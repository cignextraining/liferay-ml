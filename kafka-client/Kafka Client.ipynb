{
 "cells": [
  {
   "cell_type": "markdown",
   "metadata": {},
   "source": [
    "### Producer Block\n",
    "\n",
    "- The Producer below defined under the function `produce()` is sending data to the topic **python-topic**. \n",
    "- After sending the messages, we are closing the producer. \n",
    "- The messages produced by this producer will be consumed by our Java Client based consumer subscribing to the topic **python-topic**."
   ]
  },
  {
   "cell_type": "code",
   "execution_count": null,
   "metadata": {},
   "outputs": [],
   "source": [
    "from kafka import KafkaProducer\n",
    "\n",
    "def producer():\n",
    "    producer = KafkaProducer(bootstrap_servers='localhost:9092')\n",
    "    producer.send('python-topic', b\"Publishing data to Kafka Topic from Python Producer\")\n",
    "    producer.send('python-topic', b\"Another message from Python Producer\")\n",
    "    producer.close()\n",
    "    \n",
    "producer()"
   ]
  },
  {
   "cell_type": "markdown",
   "metadata": {},
   "source": [
    "### Consumer Block\n",
    "\n",
    "- The Consumer below defined under the function `consume()` is consuming data from the topic **java-topic**. \n",
    "- It continues to poll on its subscribed topics and when it receives the message, it prints out message related information on console and keep repeating itself for ever till the time we don't terminate the consumer. \n",
    "- Take a note that it consumes the data produced by our Java Client Producer counter part which is publishing its data / messages to **java-topic**"
   ]
  },
  {
   "cell_type": "code",
   "execution_count": null,
   "metadata": {},
   "outputs": [],
   "source": [
    "from kafka import KafkaConsumer\n",
    "\n",
    "def consume():\n",
    "    consumer = KafkaConsumer(bootstrap_servers='localhost:9092',\n",
    "                                 consumer_timeout_ms=1000)\n",
    "    consumer.subscribe(['java-topic'])\n",
    "    print(\"Starting the consumption\")\n",
    "    while True:\n",
    "        for message in consumer:\n",
    "            print(\"offset:%d, partition:%d, key=%s, value=%s\"%(message.offset, message.partition, message.key, message.value))\n",
    "            \n",
    "consume()"
   ]
  },
  {
   "cell_type": "code",
   "execution_count": null,
   "metadata": {},
   "outputs": [],
   "source": []
  }
 ],
 "metadata": {
  "kernelspec": {
   "display_name": "Python 3",
   "language": "python",
   "name": "python3"
  },
  "language_info": {
   "codemirror_mode": {
    "name": "ipython",
    "version": 3
   },
   "file_extension": ".py",
   "mimetype": "text/x-python",
   "name": "python",
   "nbconvert_exporter": "python",
   "pygments_lexer": "ipython3",
   "version": "3.5.2"
  },
  "widgets": {
   "state": {},
   "version": "1.1.2"
  }
 },
 "nbformat": 4,
 "nbformat_minor": 2
}
