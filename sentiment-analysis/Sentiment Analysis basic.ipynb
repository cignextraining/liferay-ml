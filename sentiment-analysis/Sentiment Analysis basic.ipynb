{
 "cells": [
  {
   "cell_type": "code",
   "execution_count": null,
   "metadata": {},
   "outputs": [],
   "source": [
    "#Imports\n",
    "import nltk.classify.util\n",
    "from nltk.classify import NaiveBayesClassifier\n",
    "from nltk.corpus import names"
   ]
  },
  {
   "cell_type": "code",
   "execution_count": null,
   "metadata": {},
   "outputs": [],
   "source": [
    "#Extracting Features using Bag of Words Approach\n",
    "\n",
    "def word_feats(words):\n",
    "    return dict([(word, True) for word in words])"
   ]
  },
  {
   "cell_type": "code",
   "execution_count": null,
   "metadata": {},
   "outputs": [],
   "source": [
    "positive_vocab = [ 'awesome', 'outstanding', 'fantastic', 'terrific', 'good', 'nice', 'great', ':)' ]\n",
    "negative_vocab = [ 'bad', 'terrible','useless', 'hate', ':(' ]\n",
    "neutral_vocab = [ 'movie','the','sound','was','is','actors','did','know','words','not' ]\n",
    " \n",
    "positive_features = [(word_feats(pos), 'pos') for pos in positive_vocab]\n",
    "negative_features = [(word_feats(neg), 'neg') for neg in negative_vocab]\n",
    "neutral_features = [(word_feats(neu), 'neu') for neu in neutral_vocab]"
   ]
  },
  {
   "cell_type": "code",
   "execution_count": null,
   "metadata": {},
   "outputs": [],
   "source": [
    "print(\"--------------------------------------------------\")\n",
    "print(positive_features)\n",
    "print(\"--------------------------------------------------\")\n",
    "print(\"Total Positive Features: \",len(positive_features))\n",
    "print(\"--------------------------------------------------\")\n",
    "print(negative_features)\n",
    "print(\"--------------------------------------------------\")\n",
    "print(\"Total Negative Features: \",len(negative_features))\n",
    "print(\"--------------------------------------------------\")\n",
    "print(neutral_features)\n",
    "print(\"--------------------------------------------------\")\n",
    "print(\"Total Neutral Features: \",len(neutral_features))\n",
    "print(\"--------------------------------------------------\")"
   ]
  },
  {
   "cell_type": "code",
   "execution_count": null,
   "metadata": {},
   "outputs": [],
   "source": [
    "#Making a training set out of negative, positive and neutral features\n",
    "train_set = negative_features + positive_features + neutral_features\n",
    "print(\"--------------------------------------------------\")\n",
    "print(train_set)\n",
    "print(\"--------------------------------------------------\")\n",
    "print(\"Total size of feature set; \",len(train_set))\n",
    "print(\"--------------------------------------------------\")"
   ]
  },
  {
   "cell_type": "code",
   "execution_count": null,
   "metadata": {},
   "outputs": [],
   "source": [
    "#Training a classifier based on our training set\n",
    "classifier = NaiveBayesClassifier.train(train_set)"
   ]
  },
  {
   "cell_type": "code",
   "execution_count": null,
   "metadata": {},
   "outputs": [],
   "source": [
    "# Predict\n",
    "neg = 0\n",
    "pos = 0\n",
    "print(\"Please enter the sentence on which you would like to do sentiment analysis:\")\n",
    "sentence = input()\n",
    "print(\"Do you want to see verbose operation?(Y/N)\")\n",
    "operation = input()\n",
    "sentence = sentence.lower()\n",
    "words = sentence.split(' ')\n",
    "if operation.lower() == \"y\":\n",
    "    print(\"Your sentence is splitted into words as follows:\")\n",
    "    print(words)\n",
    "    print(\"Starting to compute the score...\")\n",
    "for word in words:\n",
    "    classResult = classifier.classify( word_feats(word))\n",
    "    if classResult == 'neg':\n",
    "        neg = neg + 1\n",
    "        if operation.lower() == \"y\":\n",
    "            print(\"The word %s was assigned negative score\"%(word))\n",
    "            print(\"Also, word_feats() returned: \",word_feats(word))\n",
    "    if classResult == 'pos':\n",
    "        pos = pos + 1\n",
    "        if operation.lower() == \"y\":\n",
    "            print(\"The word %s was assigned positive score\"%(word))\n",
    "            print(\"Also, word_feats() returned: \",word_feats(word))\n",
    " \n",
    "print('Positive: ' + str(float(pos)/len(words)))\n",
    "print('Negative: ' + str(float(neg)/len(words)))"
   ]
  },
  {
   "cell_type": "code",
   "execution_count": null,
   "metadata": {},
   "outputs": [],
   "source": []
  }
 ],
 "metadata": {
  "kernelspec": {
   "display_name": "Python 3",
   "language": "python",
   "name": "python3"
  },
  "language_info": {
   "codemirror_mode": {
    "name": "ipython",
    "version": 3
   },
   "file_extension": ".py",
   "mimetype": "text/x-python",
   "name": "python",
   "nbconvert_exporter": "python",
   "pygments_lexer": "ipython3",
   "version": "3.5.2"
  },
  "widgets": {
   "state": {},
   "version": "1.1.2"
  }
 },
 "nbformat": 4,
 "nbformat_minor": 2
}
